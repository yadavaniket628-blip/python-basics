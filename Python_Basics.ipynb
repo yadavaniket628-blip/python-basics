{
  "nbformat": 4,
  "nbformat_minor": 0,
  "metadata": {
    "colab": {
      "provenance": []
    },
    "kernelspec": {
      "name": "python3",
      "display_name": "Python 3"
    },
    "language_info": {
      "name": "python"
    }
  },
  "cells": [
    {
      "cell_type": "markdown",
      "source": [
        "# Python Basic Theory Question and Answer\n"
      ],
      "metadata": {
        "id": "KXtlCam0VCMk"
      }
    },
    {
      "cell_type": "markdown",
      "source": [
        " 1. **What is Python, and why is it popular?**\n",
        "  - Python is a popular programming language. It was created by Guido Van Rossum in 1991.\n",
        "\n",
        "  - Python is popular because of its easy learning and easy-to-write nature. Python has a simple syntax similar to the english language. Python has a large and active community of developers. Python has a large numbers of Libraries. It has more than 5,00,000 libraries. Python runs on an interpreter system, which allows it to be executed as soon as it is written. That means the prototype can be very quick. Python can be used on a server to create a Web application. It can be used to handle big data and solve complex math problems. Python can connect to a database system, and it can also read and modify data."
      ],
      "metadata": {
        "id": "G3tkIDTYVQG0"
      }
    },
    {
      "cell_type": "markdown",
      "source": [
        "2.  **What is an interpreter in Python?**\n",
        "   - Interpreters are the computer programs that convert the source code into intermediate code. It is also called a translator in programming languages. Interpreters execute each line of statement slowly. This process is called Interpretation."
      ],
      "metadata": {
        "id": "lg_sJYWTdgoK"
      }
    },
    {
      "cell_type": "markdown",
      "source": [
        "3.  **What are pre-defined keywords in Python?**\n",
        "   - Keywords in Python are special reserved words that are part of the language itself. They define the rules and structure of Python programs, which means you cannot use them as names for your variables, classes, functions, or other identifiers.\n",
        "   - list of keywords - True, False, None, And, Or, Not, is, in, if, else, elif, for, while, break, continue, pass, try, except, finally, def, return, lambda, class, with, as, import, from, and many more."
      ],
      "metadata": {
        "id": "g3LKsGz1fjJt"
      }
    },
    {
      "cell_type": "markdown",
      "source": [
        "4. **Can keywords be used as variable names?**\n",
        "  - No, keywords can not be used as variable names, because they define the rules and the structure of Python programs."
      ],
      "metadata": {
        "id": "KIZ33X4Kh2vn"
      }
    },
    {
      "cell_type": "markdown",
      "source": [
        "5. **What is mutability in Python?**\n",
        "  - In Python, mutability means changeable or modifiable. Mutable objects such as lists and dictionaries, and dictionaries that can be modified after creation. We can add or remove elements from this."
      ],
      "metadata": {
        "id": "vsL1IgPjiZWd"
      }
    },
    {
      "cell_type": "markdown",
      "source": [
        "6. **Why are lists mutable, but tuples are immutable?**\n",
        "  - List are mutable because they are designed for dynamic collections where elements can be added, removed or changed. Tuples re immutable because they are meant for static, unchanging collection of data."
      ],
      "metadata": {
        "id": "qpKgII-IwDtm"
      }
    },
    {
      "cell_type": "markdown",
      "source": [
        " 7. **What is the difference between “==” and “is” operators in Python?**\n",
        "   - In Python, both \"==\" and \"is\" operators are used for comparison, but they are used for different purposes. This \"is\" is known as the identity operator, and \"==\" is known as the equality operator.\n",
        "   - \"is\" operator returns true if both variables are referring to the same object. If they point to different objects, even if the values are the same, it returns false.\n",
        "   - \"==\", when the other side of the variable has exact same value, it returns True otherwise its returns False."
      ],
      "metadata": {
        "id": "MO2N26tgxxDj"
      }
    },
    {
      "cell_type": "markdown",
      "source": [
        "8. **What are logical operators in Python?**\n",
        "  - Python logical operators are - and, or, & not.\n",
        "  - \"and\" - it returns True if both statements are True.\n",
        "  - \"or\" - it returns True if one of the statements is true.\n",
        "  - \"not\" - it always reverses the result; it gives False if the result is True."
      ],
      "metadata": {
        "id": "A5ob6rSB1H7q"
      }
    },
    {
      "cell_type": "markdown",
      "source": [
        "9.  **What is type casting in Python?**\n",
        "  - Type casting is the method to convert the Python variables' data type to another data type. There are two types of Type Casting, one is \"Implicit\" and the other is \"Explicit\".\n",
        "  - Mainly Type casting done between these data types - Integer, Float, & String."
      ],
      "metadata": {
        "id": "b4cnP9Vr3XAJ"
      }
    },
    {
      "cell_type": "markdown",
      "source": [
        "10.  **What is the difference between implicit and explicit type casting?**\n",
        "   - \"Implicit\" - Automatically converts the data type into another data type; users don't have to be involved in this.\n",
        "  - \"Explicit\" - It needs users' involvement."
      ],
      "metadata": {
        "id": "p9CVhgrT5Zm-"
      }
    },
    {
      "cell_type": "markdown",
      "source": [
        "11. **What is the purpose of conditional statements in Python?**\n",
        "   - Conditional statements in Python are used to execute a certain block of code based on a specific condition. The statements help control the flow of the program, making it behave differently in different situations.\n",
        "   - Some conditional statements are - if, if else, elif,& nested if."
      ],
      "metadata": {
        "id": "TQlfHY7-6HS3"
      }
    },
    {
      "cell_type": "markdown",
      "source": [
        "12. **How does the elif statement work?**\n",
        "  - \"elif\" staement in Python stands for \"else if\", it helps us to check multiple conditions.\n",
        " - below i gave a example, how \"elif\" statement work,\n"
      ],
      "metadata": {
        "id": "YS0TAKEn7jRi"
      }
    },
    {
      "cell_type": "code",
      "execution_count": null,
      "metadata": {
        "colab": {
          "base_uri": "https://localhost:8080/"
        },
        "id": "MNX9gfT9U3yF",
        "outputId": "24f5efa0-44fd-41f9-e154-af5532ddf2df"
      },
      "outputs": [
        {
          "output_type": "stream",
          "name": "stdout",
          "text": [
            "Grade B\n"
          ]
        }
      ],
      "source": [
        "total_marks= 88\n",
        "if total_marks >= 90:\n",
        "  print(\"Grade A\")\n",
        "elif total_marks >= 80:\n",
        "  print(\"Grade B\")\n",
        "elif total_marks >= 70:\n",
        "  print(\"Grade C\")"
      ]
    },
    {
      "cell_type": "markdown",
      "source": [
        "The code checks the value of marks using if-elif-else. Since total marks is 88, it skips the first condition , so it prints Grade B."
      ],
      "metadata": {
        "id": "fcxYKbMI-UY_"
      }
    },
    {
      "cell_type": "markdown",
      "source": [
        "13. **What is the difference between for and while loops?**\n",
        "   - \"for\" - It runs a fixed number of times, usually when you already know how many times you want the code to repeat.\n",
        "   - \"while\" - It runs until a condition becomes false, which is useful when you dont know in advance how many times it should run."
      ],
      "metadata": {
        "id": "WGcheywi-w-X"
      }
    },
    {
      "cell_type": "markdown",
      "source": [
        "14. **Describe a scenario where a while loop is more suitable than a for loop.**\n",
        "  - A `while` loop is more suitable than a `for` loop when the number of iterations is not known in advance and the loop needs to continue until a specific condition is met.\n",
        "\n",
        "**Scenario:** Imagine you are writing a program that simulates rolling a dice until a 6 is rolled. You don't know how many rolls it will take to get a 6. In this case, a `while` loop is ideal because you can set the condition to continue rolling *while* the result is not 6. A `for` loop would require you to specify a fixed number of rolls beforehand, which wouldn't be appropriate for this scenario.\n",
        "\n",
        "  "
      ],
      "metadata": {
        "id": "0u2DuHZXAhaX"
      }
    },
    {
      "cell_type": "markdown",
      "source": [
        "# Practical questions"
      ],
      "metadata": {
        "id": "iRuNlb5iA7Ep"
      }
    },
    {
      "cell_type": "markdown",
      "source": [
        "1. **Write a Python program to print \"Hello, World!\"**"
      ],
      "metadata": {
        "id": "odKt68N3BHTU"
      }
    },
    {
      "cell_type": "code",
      "source": [
        "print(\"Hello,World!\")"
      ],
      "metadata": {
        "colab": {
          "base_uri": "https://localhost:8080/"
        },
        "id": "EQtLVsezBBiG",
        "outputId": "2098d620-56b3-46b8-fef2-d23fb603ae3f"
      },
      "execution_count": null,
      "outputs": [
        {
          "output_type": "stream",
          "name": "stdout",
          "text": [
            "Hello,World!\n"
          ]
        }
      ]
    },
    {
      "cell_type": "markdown",
      "source": [
        "2.  **Write a Python program that displays your name and age.**"
      ],
      "metadata": {
        "id": "52yBE3UVBVAa"
      }
    },
    {
      "cell_type": "code",
      "source": [
        "name = \"Aniket\"\n",
        "age = 25\n",
        "print(name,age)"
      ],
      "metadata": {
        "colab": {
          "base_uri": "https://localhost:8080/"
        },
        "id": "ab1ORoxJBTKV",
        "outputId": "2c7d5bce-2584-4bc5-a01b-a0c8ca6255f2"
      },
      "execution_count": null,
      "outputs": [
        {
          "output_type": "stream",
          "name": "stdout",
          "text": [
            "Aniket 25\n"
          ]
        }
      ]
    },
    {
      "cell_type": "markdown",
      "source": [
        "3.  **Write code to print all the pre-defined keywords in Python using the keyword library.**"
      ],
      "metadata": {
        "id": "vMUdSqxKB7Ce"
      }
    },
    {
      "cell_type": "code",
      "source": [
        "help('keywords')"
      ],
      "metadata": {
        "id": "UjajN8ZwBoTk",
        "colab": {
          "base_uri": "https://localhost:8080/"
        },
        "outputId": "8c4c72a6-6e6b-4ece-fca8-1744be3b9d01"
      },
      "execution_count": 13,
      "outputs": [
        {
          "output_type": "stream",
          "name": "stdout",
          "text": [
            "\n",
            "Here is a list of the Python keywords.  Enter any keyword to get more help.\n",
            "\n",
            "False               class               from                or\n",
            "None                continue            global              pass\n",
            "True                def                 if                  raise\n",
            "and                 del                 import              return\n",
            "as                  elif                in                  try\n",
            "assert              else                is                  while\n",
            "async               except              lambda              with\n",
            "await               finally             nonlocal            yield\n",
            "break               for                 not                 \n",
            "\n"
          ]
        }
      ]
    },
    {
      "cell_type": "markdown",
      "source": [
        "4. **Write a program that checks if a given word is a Python keyword.**\n",
        "\n"
      ],
      "metadata": {
        "id": "Yf0IOqsoyb-Q"
      }
    },
    {
      "cell_type": "code",
      "source": [
        "import keyword\n",
        "\n",
        "word = input(\"Enter a word: \")\n",
        "\n",
        "if keyword.iskeyword(word):\n",
        "  print(f\"'{word}' is a Python keyword.\")\n",
        "else:\n",
        "  print(f\"'{word}' is not a Python keyword.\")"
      ],
      "metadata": {
        "colab": {
          "base_uri": "https://localhost:8080/"
        },
        "id": "SBJGLsgZyaWy",
        "outputId": "cf604f50-4293-43e8-ca44-6f1d99d542e0"
      },
      "execution_count": 18,
      "outputs": [
        {
          "output_type": "stream",
          "name": "stdout",
          "text": [
            "Enter a word: hello\n",
            "'hello' is not a Python keyword.\n"
          ]
        }
      ]
    },
    {
      "cell_type": "markdown",
      "source": [
        "5. **Create a list and tuple in Python, and demonstrate how attempting to change an element works differently for each.**"
      ],
      "metadata": {
        "id": "8eA8Y0zq4vJZ"
      }
    },
    {
      "cell_type": "code",
      "source": [
        "# Create a list and a tuple\n",
        "my_list = [1, 2, 3, 4]\n",
        "my_tuple = (1, 2, 3, 4)\n",
        "\n",
        "print(\"Original List:\", my_list)\n",
        "print(\"Original Tuple:\", my_tuple)\n",
        "\n",
        "# Attempt to change an element in the list\n",
        "print(\"\\nAttempting to change an element in the list:\")\n",
        "my_list[0] = 10\n",
        "print(\"Modified List:\", my_list)\n",
        "\n",
        "# Attempt to change an element in the tuple\n",
        "print(\"\\nAttempting to change an element in the tuple:\")\n",
        "try:\n",
        "  my_tuple[0] = 10\n",
        "except TypeError as e:\n",
        "  print(\"Error:\", e)"
      ],
      "metadata": {
        "colab": {
          "base_uri": "https://localhost:8080/"
        },
        "id": "gRIt51rty9_v",
        "outputId": "eb94e9cd-8f35-4f78-f6b9-12e9dc9f93cf"
      },
      "execution_count": 16,
      "outputs": [
        {
          "output_type": "stream",
          "name": "stdout",
          "text": [
            "Original List: [1, 2, 3, 4]\n",
            "Original Tuple: (1, 2, 3, 4)\n",
            "\n",
            "Attempting to change an element in the list:\n",
            "Modified List: [10, 2, 3, 4]\n",
            "\n",
            "Attempting to change an element in the tuple:\n",
            "Error: 'tuple' object does not support item assignment\n"
          ]
        }
      ]
    },
    {
      "cell_type": "markdown",
      "source": [
        "6.  **Write a function to demonstrate the behavior of mutable and immutable arguments.**"
      ],
      "metadata": {
        "id": "aDaQZM0Vzj3K"
      }
    },
    {
      "cell_type": "code",
      "source": [
        "def demonstrate_mutability(mutable_arg, immutable_arg):\n",
        "  \"\"\"Demonstrates the behavior of mutable and immutable arguments.\"\"\"\n",
        "  print(\"Inside the function:\")\n",
        "  print(\"  Mutable argument before change:\", mutable_arg)\n",
        "  print(\"  Immutable argument before change:\", immutable_arg)\n",
        "\n",
        "  # Modify the mutable argument\n",
        "  mutable_arg.append(5)\n",
        "\n",
        "  # Attempt to modify the immutable argument (this creates a new object)\n",
        "  immutable_arg += 1\n",
        "\n",
        "  print(\"  Mutable argument after change:\", mutable_arg)\n",
        "  print(\"  Immutable argument after change:\", immutable_arg)\n",
        "\n",
        "# Create mutable and immutable variables\n",
        "my_list = [1, 2, 3, 4]\n",
        "my_int = 10\n",
        "\n",
        "print(\"Outside the function:\")\n",
        "print(\"  Original List:\", my_list)\n",
        "print(\"  Original Integer:\", my_int)\n",
        "\n",
        "# Call the function\n",
        "demonstrate_mutability(my_list, my_int)\n",
        "\n",
        "print(\"\\nOutside the function after calling:\")\n",
        "print(\"  List after calling function:\", my_list)\n",
        "print(\"  Integer after calling function:\", my_int)"
      ],
      "metadata": {
        "colab": {
          "base_uri": "https://localhost:8080/"
        },
        "id": "zC1EJO22zi_L",
        "outputId": "8a93c7c6-a903-4040-efae-8e7e99e43ccb"
      },
      "execution_count": 6,
      "outputs": [
        {
          "output_type": "stream",
          "name": "stdout",
          "text": [
            "Outside the function:\n",
            "  Original List: [1, 2, 3, 4]\n",
            "  Original Integer: 10\n",
            "Inside the function:\n",
            "  Mutable argument before change: [1, 2, 3, 4]\n",
            "  Immutable argument before change: 10\n",
            "  Mutable argument after change: [1, 2, 3, 4, 5]\n",
            "  Immutable argument after change: 11\n",
            "\n",
            "Outside the function after calling:\n",
            "  List after calling function: [1, 2, 3, 4, 5]\n",
            "  Integer after calling function: 10\n"
          ]
        }
      ]
    },
    {
      "cell_type": "markdown",
      "source": [
        "7. **Write a program that performs basic arithmetic operations on two user-input numbers**."
      ],
      "metadata": {
        "id": "GZCVp4Hbz89O"
      }
    },
    {
      "cell_type": "code",
      "source": [
        "number1 = int(input(\"Enter the first number: \"))\n",
        "number2 = int(input(\"Enter the second number: \"))\n",
        "\n",
        "print('The sum is :',number1 + number2)\n",
        "print('The subtraction is :', number1 - number2)\n",
        "print('The multiplication is:', number1 * number2)\n",
        "print('The division is:', number1 / number2)\n"
      ],
      "metadata": {
        "colab": {
          "base_uri": "https://localhost:8080/"
        },
        "id": "zDQUQTJIzxHT",
        "outputId": "489e1b57-c0a3-499c-e9c6-afc2dff1788f"
      },
      "execution_count": 20,
      "outputs": [
        {
          "output_type": "stream",
          "name": "stdout",
          "text": [
            "Enter the first number: 25\n",
            "Enter the second number: 25\n",
            "The sum is : 50\n",
            "The subtraction is : 0\n",
            "The multiplication is: 625\n",
            "The division is: 1.0\n"
          ]
        }
      ]
    },
    {
      "cell_type": "markdown",
      "source": [
        "8.  **Write a program to demonstrate the use of logical operators.**"
      ],
      "metadata": {
        "id": "zTRDn3wX0S5c"
      }
    },
    {
      "cell_type": "code",
      "source": [],
      "metadata": {
        "id": "vpTu9DANB_xR"
      },
      "execution_count": null,
      "outputs": []
    },
    {
      "cell_type": "code",
      "source": [
        "# Demonstrate the use of logical operators\n",
        "\n",
        "a = x<5 and x<10 #return true if both the statements are true\n",
        "b = x<5 or x<4 #return true if one of the statement is true\n",
        "c = not(x<5 and x<10) #just reverse the result, returns flase if the result is true\n",
        "\n",
        "print(a)\n",
        "print(b)\n",
        "print(c)"
      ],
      "metadata": {
        "colab": {
          "base_uri": "https://localhost:8080/"
        },
        "id": "E4UNuE1u0Mn-",
        "outputId": "9942d1fd-e2b1-4c06-ef5c-a23edfc017d5"
      },
      "execution_count": 31,
      "outputs": [
        {
          "output_type": "stream",
          "name": "stdout",
          "text": [
            "True\n",
            "True\n",
            "False\n"
          ]
        }
      ]
    },
    {
      "cell_type": "markdown",
      "source": [
        "9. **Write a Python program to convert user input from string to integer, float, and boolean types.**"
      ],
      "metadata": {
        "id": "7mX63Dq00s8P"
      }
    },
    {
      "cell_type": "code",
      "source": [
        "a= '2'\n",
        "print(type(a))\n",
        "print(a)\n",
        "\n",
        "b= int(a)\n",
        "print(type(b))\n",
        "print(b)\n",
        "\n",
        "c= float(a)\n",
        "print(type(c))\n",
        "print(c)\n",
        "\n",
        "d= bool(a)\n",
        "print(type(d))\n",
        "print(d)"
      ],
      "metadata": {
        "colab": {
          "base_uri": "https://localhost:8080/"
        },
        "id": "cG8dY0Qp0r3R",
        "outputId": "17485ed7-ce87-4c5a-832d-8396cf48c000"
      },
      "execution_count": 25,
      "outputs": [
        {
          "output_type": "stream",
          "name": "stdout",
          "text": [
            "<class 'str'>\n",
            "2\n",
            "<class 'int'>\n",
            "2\n",
            "<class 'float'>\n",
            "2.0\n",
            "<class 'bool'>\n",
            "True\n"
          ]
        }
      ]
    },
    {
      "cell_type": "markdown",
      "source": [
        "10.  **Write code to demonstrate type casting with list elements.**"
      ],
      "metadata": {
        "id": "GmbY2Wnk1O94"
      }
    },
    {
      "cell_type": "code",
      "source": [],
      "metadata": {
        "id": "3xEzg54X1Okl"
      },
      "execution_count": null,
      "outputs": []
    },
    {
      "cell_type": "markdown",
      "source": [
        "11. **Write a program that checks if a number is positive, negative, or zero.**"
      ],
      "metadata": {
        "id": "pNCjFMA31WiO"
      }
    },
    {
      "cell_type": "code",
      "source": [
        "# Get input from the user\n",
        "number = float(input(\"Enter a number: \"))\n",
        "\n",
        "# Check if the number is positive, negative, or zero\n",
        "if number > 0:\n",
        "  print(f\"{number} is a positive number.\")\n",
        "elif number < 0:\n",
        "  print(f\"{number} is a negative number.\")\n",
        "else:\n",
        "  print(f\"{number} is zero.\")"
      ],
      "metadata": {
        "colab": {
          "base_uri": "https://localhost:8080/"
        },
        "id": "7tV6cUM31V45",
        "outputId": "2362c454-d9c6-4fbc-d619-b5bc6402829b"
      },
      "execution_count": 28,
      "outputs": [
        {
          "output_type": "stream",
          "name": "stdout",
          "text": [
            "Enter a number: 22\n",
            "22.0 is a positive number.\n"
          ]
        }
      ]
    },
    {
      "cell_type": "markdown",
      "source": [
        "12. **Write a for loop to print numbers from 1 to 10.**"
      ],
      "metadata": {
        "id": "YZYq-q_11cuG"
      }
    },
    {
      "cell_type": "code",
      "source": [
        "# Write a for loop to print numbers from 1 to 10\n",
        "for i in range(1, 11):\n",
        "  print(i)"
      ],
      "metadata": {
        "colab": {
          "base_uri": "https://localhost:8080/"
        },
        "id": "lR_bTxMM1Lcy",
        "outputId": "cf03c13e-706f-4a70-be2f-a83369fa5743"
      },
      "execution_count": 27,
      "outputs": [
        {
          "output_type": "stream",
          "name": "stdout",
          "text": [
            "1\n",
            "2\n",
            "3\n",
            "4\n",
            "5\n",
            "6\n",
            "7\n",
            "8\n",
            "9\n",
            "10\n"
          ]
        }
      ]
    },
    {
      "cell_type": "markdown",
      "source": [
        "13.  **Write a Python program to find the sum of all even numbers between 1 and 50.**"
      ],
      "metadata": {
        "id": "KamoB-AN1nIx"
      }
    },
    {
      "cell_type": "code",
      "source": [
        "# Initialize the sum\n",
        "sum_of_even_numbers = 0\n",
        "\n",
        "# Iterate through numbers from 1 to 50\n",
        "for number in range(1, 51):\n",
        "  # Check if the number is even\n",
        "  if number % 2 == 0:\n",
        "    # Add the even number to the sum\n",
        "    sum_of_even_numbers += number\n",
        "\n",
        "# Print the result\n",
        "print(f\"The sum of all even numbers between 1 and 50 is: {sum_of_even_numbers}\")"
      ],
      "metadata": {
        "colab": {
          "base_uri": "https://localhost:8080/"
        },
        "id": "slMvWYqN1mtO",
        "outputId": "51a5e0d2-6f7f-432f-d295-ed4cd6fe1e65"
      },
      "execution_count": 26,
      "outputs": [
        {
          "output_type": "stream",
          "name": "stdout",
          "text": [
            "The sum of all even numbers between 1 and 50 is: 650\n"
          ]
        }
      ]
    },
    {
      "cell_type": "markdown",
      "source": [
        "14. **Write a program to reverse a string using a while loop.**"
      ],
      "metadata": {
        "id": "cXiUJPI81vgK"
      }
    },
    {
      "cell_type": "code",
      "source": [
        "# Get input string from the user\n",
        "input_string = input(\"Enter a string: \")\n",
        "\n",
        "# Initialize an empty string to store the reversed string\n",
        "reversed_string = \"\"\n",
        "\n",
        "# Initialize an index for the while loop, starting from the end of the string\n",
        "index = len(input_string) - 1\n",
        "\n",
        "# Use a while loop to iterate through the string from the end\n",
        "while index >= 0:\n",
        "  reversed_string += input_string[index]\n",
        "  index -= 1\n",
        "\n",
        "# Print the reversed string\n",
        "print(f\"The reversed string is: {reversed_string}\")"
      ],
      "metadata": {
        "colab": {
          "base_uri": "https://localhost:8080/"
        },
        "id": "k27jhrUw1uwG",
        "outputId": "c99bb5d0-bb2e-4341-9371-125fafef6819"
      },
      "execution_count": 32,
      "outputs": [
        {
          "output_type": "stream",
          "name": "stdout",
          "text": [
            "Enter a string: aniket\n",
            "The reversed string is: tekina\n"
          ]
        }
      ]
    },
    {
      "cell_type": "markdown",
      "source": [
        "15. **Write a Python program to calculate the factorial of a number provided by the user using a while loop.**"
      ],
      "metadata": {
        "id": "LdfYio6o12hw"
      }
    },
    {
      "cell_type": "code",
      "source": [
        "# Get input number from the user\n",
        "num = int(input(\"Enter a non-negative integer: \"))\n",
        "\n",
        "# Initialize factorial to 1\n",
        "factorial = 1\n",
        "\n",
        "# Check if the number is negative\n",
        "if num < 0:\n",
        "  print(\"Factorial is not defined for negative numbers.\")\n",
        "elif num == 0:\n",
        "  print(\"The factorial of 0 is 1.\")\n",
        "else:\n",
        "  # Calculate factorial using a while loop\n",
        "  i = 1\n",
        "  while i <= num:\n",
        "    factorial *= i\n",
        "    i += 1\n",
        "  print(f\"The factorial of {num} is {factorial}.\")"
      ],
      "metadata": {
        "colab": {
          "base_uri": "https://localhost:8080/"
        },
        "id": "O09Q5W7O12Kx",
        "outputId": "15d0aa9a-ee35-4e86-aa5d-59025cdd091a"
      },
      "execution_count": 33,
      "outputs": [
        {
          "output_type": "stream",
          "name": "stdout",
          "text": [
            "Enter a non-negative integer: 5\n",
            "The factorial of 5 is 120.\n"
          ]
        }
      ]
    }
  ]
}